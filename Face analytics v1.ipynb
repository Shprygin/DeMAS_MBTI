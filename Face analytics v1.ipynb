{
 "cells": [
  {
   "cell_type": "markdown",
   "id": "9b050b38",
   "metadata": {},
   "source": [
    "## В этом ноутбуке будут разобраны библиотеки для анализа лиц на картинках"
   ]
  },
  {
   "cell_type": "markdown",
   "id": "f463b8c6",
   "metadata": {},
   "source": [
    "####  Представленный ниже алгоритм, первый, определяет количество лиц, если они представлены в явном виде. Если лицо покрыто очками/маской/волосами, то оно не будет идентифицировано"
   ]
  },
  {
   "cell_type": "code",
   "execution_count": null,
   "id": "660bc9b8",
   "metadata": {},
   "outputs": [],
   "source": [
    "# предупреждение: скачиваться будет ДОЛГО и вообще все в cv очень ДОЛГО"
   ]
  },
  {
   "cell_type": "code",
   "execution_count": null,
   "id": "5e16a84e",
   "metadata": {},
   "outputs": [],
   "source": [
    "pip install opencv-python"
   ]
  },
  {
   "cell_type": "code",
   "execution_count": null,
   "id": "0d4deed6",
   "metadata": {
    "scrolled": true
   },
   "outputs": [],
   "source": [
    "import cv2"
   ]
  },
  {
   "cell_type": "code",
   "execution_count": null,
   "id": "555fa2e9",
   "metadata": {},
   "outputs": [],
   "source": [
    "import sys"
   ]
  },
  {
   "cell_type": "code",
   "execution_count": null,
   "id": "91b5f26a",
   "metadata": {},
   "outputs": [],
   "source": [
    "# Далее надо скачать файл с код для идентификации лиц\n",
    "# https://github.com/shantnu/FaceDetect/blob/master/haarcascade_frontalface_default.xml\n",
    "# Код взят с https://realpython.com/face-recognition-with-python/"
   ]
  },
  {
   "cell_type": "code",
   "execution_count": null,
   "id": "c5edab81",
   "metadata": {},
   "outputs": [],
   "source": [
    "#загружаем детектор лиц\n",
    "cascPath = \"/Users/levtsipes/Desktop/Work/DeMAS/haarcascade_frontalface_default.xml\"\n",
    "faceCascade = cv2.CascadeClassifier(cascPath)"
   ]
  },
  {
   "cell_type": "code",
   "execution_count": null,
   "id": "57762692",
   "metadata": {},
   "outputs": [],
   "source": [
    "#загрузка картинки\n",
    "image = cv2.imread(\"/Users/levtsipes/Desktop/Work/DeMAS/2021-10-30 22.34.52.jpg\")\n",
    "gray = cv2.cvtColor(image, cv2.COLOR_BGR2GRAY)"
   ]
  },
  {
   "cell_type": "code",
   "execution_count": null,
   "id": "ded1f618",
   "metadata": {},
   "outputs": [],
   "source": [
    "#анализирует количество лиц\n",
    "faces = faceCascade.detectMultiScale(\n",
    "    gray,\n",
    "    scaleFactor=1.2,\n",
    "    minNeighbors=5,\n",
    "    minSize=(30, 30),\n",
    "    flags = cv2.CASCADE_SCALE_IMAGE\n",
    ")"
   ]
  },
  {
   "cell_type": "code",
   "execution_count": null,
   "id": "31cf6547",
   "metadata": {},
   "outputs": [],
   "source": [
    "#выводит количество лиц\n",
    "print (\"Found {0} faces!\".format(len(faces)))"
   ]
  },
  {
   "cell_type": "code",
   "execution_count": null,
   "id": "41b6a379",
   "metadata": {},
   "outputs": [],
   "source": [
    "# рисует квадраты вокруг лиц\n",
    "for (x, y, w, h) in faces:\n",
    "    cv2.rectangle(image, (x, y), (x + w, y + h), (0, 255, 0), 2)"
   ]
  },
  {
   "cell_type": "code",
   "execution_count": null,
   "id": "20be1df4",
   "metadata": {},
   "outputs": [],
   "source": [
    "# выводит картинку с лицами в отдельном окне\n",
    "cv2.imshow(\"Faces found\", image)\n",
    "cv2.waitKey(0)"
   ]
  },
  {
   "cell_type": "markdown",
   "id": "d000e99d",
   "metadata": {},
   "source": [
    "#### Далее рассмотрим второй алгоритм, который будет определять лица с очками. Рекомендую использовать его в т.ч. для определения числа лиц"
   ]
  },
  {
   "cell_type": "code",
   "execution_count": null,
   "id": "5076285d",
   "metadata": {},
   "outputs": [],
   "source": [
    "#код взят с https://medium.com/mlearning-ai/glasses-detection-opencv-dlib-bf4cd50856da"
   ]
  },
  {
   "cell_type": "code",
   "execution_count": null,
   "id": "802fced3",
   "metadata": {},
   "outputs": [],
   "source": [
    "# предупреждение: это тоже будет скачиваться ДОЛГО. Рекомендую посмотреть что-нибудь на ютубе, например, https://www.youtube.com/watch?v=-CmadmM5cOk"
   ]
  },
  {
   "cell_type": "code",
   "execution_count": null,
   "id": "448f73e7",
   "metadata": {},
   "outputs": [],
   "source": [
    "# устанавливать две следующие библиотеки надо РОВНО в том порядке, в котором они указаны"
   ]
  },
  {
   "cell_type": "code",
   "execution_count": null,
   "id": "2a0a17b1",
   "metadata": {},
   "outputs": [],
   "source": [
    "pip install cmake"
   ]
  },
  {
   "cell_type": "code",
   "execution_count": null,
   "id": "695b67ca",
   "metadata": {},
   "outputs": [],
   "source": [
    "pip install dlib"
   ]
  },
  {
   "cell_type": "code",
   "execution_count": null,
   "id": "c6d4f08b",
   "metadata": {},
   "outputs": [],
   "source": [
    "import numpy as np\n",
    "import dlib\n",
    "import matplotlib.pyplot as plt\n",
    "from PIL import Image\n",
    "import statistics"
   ]
  },
  {
   "cell_type": "code",
   "execution_count": null,
   "id": "1fd717ce",
   "metadata": {},
   "outputs": [],
   "source": [
    "# Скачиваем алгоритм для определения точек \n",
    "# https://github.com/tzutalin/dlib-android/blob/master/data/shape_predictor_68_face_landmarks.datу"
   ]
  },
  {
   "cell_type": "code",
   "execution_count": null,
   "id": "1790f3ec",
   "metadata": {},
   "outputs": [],
   "source": [
    "# загружаем алгоритм для разметки лица\n",
    "detector = dlib.get_frontal_face_detector()\n",
    "predictor = dlib.shape_predictor('/Users/levtsipes/Desktop/Work/DeMAS/shape_predictor_68_face_landmarks.dat')"
   ]
  },
  {
   "cell_type": "code",
   "execution_count": null,
   "id": "3a00f5c4",
   "metadata": {},
   "outputs": [],
   "source": [
    "# адрес картинки на вашем устройстве\n",
    "path='/Users/levtsipes/Desktop/Work/DeMAS/2021-10-31 14.02.35.jpg'"
   ]
  },
  {
   "cell_type": "code",
   "execution_count": null,
   "id": "47c8a362",
   "metadata": {},
   "outputs": [],
   "source": [
    "#загружаем и размечаем картинку\n",
    "img = dlib.load_rgb_image(path)\n",
    "plt.imshow(img)\n",
    "    \n",
    "rect = detector(img)\n"
   ]
  },
  {
   "cell_type": "code",
   "execution_count": null,
   "id": "43db6731",
   "metadata": {},
   "outputs": [],
   "source": [
    "#выводим количество лиц на фотографии\n",
    "print('Количество лиц:',len(rect))"
   ]
  },
  {
   "cell_type": "code",
   "execution_count": null,
   "id": "86a4be13",
   "metadata": {},
   "outputs": [],
   "source": [
    "#далее выводим область носа для каждого лица. \n",
    "#Координаты лица сохрвнены в векторе rect, должен быть цикл. Далее мы рассмотрим алгоритм только на rect[0], для простоты\n",
    "\n",
    "rect = rect[0]\n",
    "\n",
    "sp = predictor(img, rect)\n",
    "landmarks = np.array([[p.x, p.y] for p in sp.parts()])\n",
    "\n",
    "nose_bridge_x = []\n",
    "nose_bridge_y = []\n",
    "for i in [28,29,30,31,33,34,35]:\n",
    "        nose_bridge_x.append(landmarks[i][0])\n",
    "        nose_bridge_y.append(landmarks[i][1])\n",
    "        \n",
    "        \n",
    "### x_min and x_max\n",
    "x_min = min(nose_bridge_x)\n",
    "x_max = max(nose_bridge_x)\n",
    "### ymin (from top eyebrow coordinate),  ymax\n",
    "y_min = landmarks[20][1]\n",
    "y_max = landmarks[31][1]\n",
    "img2 = Image.open(path)\n",
    "img2 = img2.crop((x_min,y_min,x_max,y_max))\n",
    "plt.imshow(img2)"
   ]
  },
  {
   "cell_type": "code",
   "execution_count": null,
   "id": "d38d7ae2",
   "metadata": {},
   "outputs": [],
   "source": [
    "#далее выводим только конутры\n",
    "\n",
    "img_blur = cv2.GaussianBlur(np.array(img2),(3,3), sigmaX=0, sigmaY=0)\n",
    "edges = cv2.Canny(image =img_blur, threshold1=100, threshold2=200)\n",
    "plt.imshow(edges, cmap =plt.get_cmap('gray'))"
   ]
  },
  {
   "cell_type": "code",
   "execution_count": null,
   "id": "d0b1d380",
   "metadata": {},
   "outputs": [],
   "source": [
    "#тут алгоритм проверяет, есть ли в центре картинки - переносице - пиксели.\n",
    "edges_center = edges.T[(int(len(edges.T)/2))]\n",
    "print(edges_center)"
   ]
  },
  {
   "cell_type": "markdown",
   "id": "babba2e3",
   "metadata": {},
   "source": [
    "#### Предлагается классифицировать фотографию как \"очкастую\", если в центральной области есть хотя бы один ненулевой пиксель, однако, это сверхчувствительный алгоритм. Ниже попытаемся обучить алгоритм на основе ML лучше определять наличие очков"
   ]
  },
  {
   "cell_type": "markdown",
   "id": "81ca9c90",
   "metadata": {},
   "source": [
    "#### Если у вас есть. nvidea и Windows, то можете использовать fastai по ссылкам ниже"
   ]
  },
  {
   "cell_type": "code",
   "execution_count": null,
   "id": "c7ce1744",
   "metadata": {},
   "outputs": [],
   "source": [
    "#Ниже приведены источники:\n",
    "#https://medium.com/@eyeq/training-on-small-image-datasets-for-classify-people-who-wearing-sunglasses-or-gauze-mask-5283bc3353d6\n",
    "#https://www.kaggle.com/hortonhearsafoo/image-classifier-with-fastai"
   ]
  },
  {
   "cell_type": "code",
   "execution_count": null,
   "id": "a6f4dcab",
   "metadata": {},
   "outputs": [],
   "source": [
    "#загружаться будет быстрее обычного, но можно успеть посмотреть это: https://www.youtube.com/watch?v=GQ95z6ywcBY"
   ]
  },
  {
   "cell_type": "code",
   "execution_count": null,
   "id": "db78bbac",
   "metadata": {},
   "outputs": [],
   "source": [
    "pip install fastai"
   ]
  },
  {
   "cell_type": "code",
   "execution_count": null,
   "id": "ab3c31df",
   "metadata": {},
   "outputs": [],
   "source": [
    "pip install os"
   ]
  },
  {
   "cell_type": "code",
   "execution_count": null,
   "id": "46885657",
   "metadata": {},
   "outputs": [],
   "source": [
    "pip install torch"
   ]
  },
  {
   "cell_type": "code",
   "execution_count": null,
   "id": "24a577c9",
   "metadata": {},
   "outputs": [],
   "source": [
    "pip install pytorch"
   ]
  },
  {
   "cell_type": "markdown",
   "id": "8156ff40",
   "metadata": {},
   "source": [
    "#### Если видеокарты нет, то нужно использовать tensorflow"
   ]
  },
  {
   "cell_type": "code",
   "execution_count": 5,
   "id": "179f6cd9",
   "metadata": {
    "scrolled": true
   },
   "outputs": [
    {
     "name": "stdout",
     "output_type": "stream",
     "text": [
      "Collecting tensorflow\n",
      "Collecting tensorflow\n",
      "  Downloading tensorflow-2.6.0-cp38-cp38-macosx_10_11_x86_64.whl (199.0 MB)\n",
      "\u001b[?25l  Downloading tensorflow-2.6.0-cp38-cp38-macosx_10_11_x86_64.whl (199.0 MB)\n",
      "\u001b[K     |████████████████████████████████| 199.0 MB 56 kB/s eta 0:00:011██████▎              | 107.2 MB 1.4 MB/s eta 0:01:06██████▎              | 107.2 MB 1.4 MB/s eta 0:01:06\n",
      "\u001b[K     |████████████████████████████████| 199.0 MB 56 kB/s \n",
      "\u001b[?25hCollecting termcolor~=1.1.0\n",
      "\u001b[?25hCollecting termcolor~=1.1.0\n",
      "  Downloading termcolor-1.1.0.tar.gz (3.9 kB)\n",
      "  Downloading termcolor-1.1.0.tar.gz (3.9 kB)\n",
      "Requirement already satisfied: wheel~=0.35 in ./opt/anaconda3/lib/python3.8/site-packages (from tensorflow) (0.36.2)\n",
      "Requirement already satisfied: wheel~=0.35 in ./opt/anaconda3/lib/python3.8/site-packages (from tensorflow) (0.36.2)\n",
      "Collecting numpy~=1.19.2\n",
      "Collecting numpy~=1.19.2\n",
      "  Downloading numpy-1.19.5-cp38-cp38-macosx_10_9_x86_64.whl (15.6 MB)\n",
      "\u001b[?25l  Downloading numpy-1.19.5-cp38-cp38-macosx_10_9_x86_64.whl (15.6 MB)\n",
      "\u001b[K     |████████████████████████████████| 15.6 MB 1.0 MB/s eta 0:00:01\n",
      "\u001b[K     |████████████████████████████████| 15.6 MB 1.0 MB/s \n",
      "\u001b[?25hCollecting keras-preprocessing~=1.1.2\n",
      "\u001b[?25hCollecting keras-preprocessing~=1.1.2\n",
      "  Downloading Keras_Preprocessing-1.1.2-py2.py3-none-any.whl (42 kB)\n",
      "\u001b[K     |████████████████████████████████| 42 kB 2.0 MB/s eta 0:00:01\n",
      "  Downloading Keras_Preprocessing-1.1.2-py2.py3-none-any.whl (42 kB)\n",
      "\u001b[K     |████████████████████████████████| 42 kB 2.0 MB/s eta 0:00:01\n",
      "\u001b[?25hCollecting gast==0.4.0\n",
      "\u001b[?25hCollecting gast==0.4.0\n",
      "  Downloading gast-0.4.0-py3-none-any.whl (9.8 kB)\n",
      "  Downloading gast-0.4.0-py3-none-any.whl (9.8 kB)\n",
      "Collecting clang~=5.0\n",
      "Collecting clang~=5.0\n",
      "  Downloading clang-5.0.tar.gz (30 kB)\n",
      "  Downloading clang-5.0.tar.gz (30 kB)\n",
      "Requirement already satisfied: six~=1.15.0 in ./opt/anaconda3/lib/python3.8/site-packages (from tensorflow) (1.15.0)\n",
      "Requirement already satisfied: six~=1.15.0 in ./opt/anaconda3/lib/python3.8/site-packages (from tensorflow) (1.15.0)\n",
      "Collecting flatbuffers~=1.12.0\n",
      "Collecting flatbuffers~=1.12.0\n",
      "  Downloading flatbuffers-1.12-py2.py3-none-any.whl (15 kB)\n",
      "  Downloading flatbuffers-1.12-py2.py3-none-any.whl (15 kB)\n",
      "Collecting grpcio<2.0,>=1.37.0\n",
      "Collecting grpcio<2.0,>=1.37.0\n",
      "  Downloading grpcio-1.41.1-cp38-cp38-macosx_10_10_x86_64.whl (3.9 MB)\n",
      "\u001b[K     |▍                               | 40 kB 2.1 MB/s eta 0:00:02  Downloading grpcio-1.41.1-cp38-cp38-macosx_10_10_x86_64.whl (3.9 MB)\n",
      "\u001b[K     |████████████████████████████████| 3.9 MB 932 kB/s eta 0:00:01\n",
      "\u001b[K     |████████████████████████████████| 3.9 MB 932 kB/s eta 0:00:01\n",
      "\u001b[?25hRequirement already satisfied: typing-extensions~=3.7.4 in ./opt/anaconda3/lib/python3.8/site-packages (from tensorflow) (3.7.4.3)\n",
      "\u001b[?25hRequirement already satisfied: typing-extensions~=3.7.4 in ./opt/anaconda3/lib/python3.8/site-packages (from tensorflow) (3.7.4.3)\n",
      "Collecting tensorboard~=2.6\n",
      "Collecting tensorboard~=2.6\n",
      "  Downloading tensorboard-2.7.0-py3-none-any.whl (5.8 MB)\n",
      "\u001b[K     |▎                               | 40 kB 1.4 MB/s eta 0:00:05  Downloading tensorboard-2.7.0-py3-none-any.whl (5.8 MB)\n",
      "\u001b[K     |████████████████████████████████| 5.8 MB 2.0 MB/s eta 0:00:01\n",
      "\u001b[K     |████████████████████████████████| 5.8 MB 2.0 MB/s eta 0:00:01\n",
      "\u001b[?25hCollecting h5py~=3.1.0\n",
      "\u001b[?25hCollecting h5py~=3.1.0\n",
      "  Downloading h5py-3.1.0-cp38-cp38-macosx_10_9_x86_64.whl (2.9 MB)\n",
      "\u001b[K     |█                               | 92 kB 2.4 MB/s eta 0:00:02  Downloading h5py-3.1.0-cp38-cp38-macosx_10_9_x86_64.whl (2.9 MB)\n",
      "\u001b[K     |████████████████████████████████| 2.9 MB 2.2 MB/s eta 0:00:01     |███████████████████             | 1.7 MB 1.6 MB/s eta 0:00:01     |███████████████████             | 1.7 MB 1.6 MB/s eta 0:00:01\n",
      "\u001b[?25hRequirement already satisfied: wrapt~=1.12.1 in ./opt/anaconda3/lib/python3.8/site-packages (from tensorflow) (1.12.1)\n",
      "\u001b[K     |████████████████████████████████| 2.9 MB 2.2 MB/s eta 0:00:01\n",
      "\u001b[?25hRequirement already satisfied: wrapt~=1.12.1 in ./opt/anaconda3/lib/python3.8/site-packages (from tensorflow) (1.12.1)\n",
      "Collecting google-pasta~=0.2\n",
      "Collecting google-pasta~=0.2\n",
      "  Downloading google_pasta-0.2.0-py3-none-any.whl (57 kB)\n",
      "\u001b[K     |████████████████████████████████| 57 kB 1.5 MB/s eta 0:00:01\n",
      "  Downloading google_pasta-0.2.0-py3-none-any.whl (57 kB)\n",
      "\u001b[K     |████████████████████████████████| 57 kB 1.5 MB/s eta 0:00:01\n",
      "\u001b[?25hCollecting tensorflow-estimator~=2.6\n",
      "\u001b[?25hCollecting tensorflow-estimator~=2.6\n",
      "  Downloading tensorflow_estimator-2.7.0-py2.py3-none-any.whl (463 kB)\n",
      "\u001b[?25l  Downloading tensorflow_estimator-2.7.0-py2.py3-none-any.whl (463 kB)\n",
      "\u001b[K     |████████████████████████████████| 463 kB 1.2 MB/s eta 0:00:01\n",
      "\u001b[K     |████████████████████████████████| 463 kB 1.2 MB/s eta 0:00:01\n",
      "\u001b[?25hCollecting keras~=2.6\n",
      "\u001b[?25hCollecting keras~=2.6\n",
      "  Downloading keras-2.6.0-py2.py3-none-any.whl (1.3 MB)\n",
      "\u001b[K     |▎                               | 10 kB 1.1 MB/s eta 0:00:02  Downloading keras-2.6.0-py2.py3-none-any.whl (1.3 MB)\n",
      "\u001b[K     |████████████████████████████████| 1.3 MB 971 kB/s eta 0:00:01\n",
      "\u001b[K     |████████████████████████████████| 1.3 MB 971 kB/s eta 0:00:01\n",
      "\u001b[?25hCollecting absl-py~=0.10\n",
      "\u001b[?25hCollecting absl-py~=0.10\n",
      "  Downloading absl_py-0.15.0-py3-none-any.whl (132 kB)\n",
      "\u001b[K     |██████████                      | 40 kB 1.3 MB/s eta 0:00:01  Downloading absl_py-0.15.0-py3-none-any.whl (132 kB)\n",
      "\u001b[K     |████████████████████████████████| 132 kB 1.1 MB/s eta 0:00:01\n",
      "\u001b[K     |████████████████████████████████| 132 kB 1.1 MB/s eta 0:00:01\n",
      "\u001b[?25hCollecting astunparse~=1.6.3\n",
      "\u001b[?25hCollecting astunparse~=1.6.3\n",
      "  Downloading astunparse-1.6.3-py2.py3-none-any.whl (12 kB)\n",
      "  Downloading astunparse-1.6.3-py2.py3-none-any.whl (12 kB)\n",
      "Collecting protobuf>=3.9.2\n",
      "Collecting protobuf>=3.9.2\n",
      "  Downloading protobuf-3.19.1-cp38-cp38-macosx_10_9_x86_64.whl (1.0 MB)\n",
      "\u001b[K     |█▎                              | 40 kB 1.1 MB/s eta 0:00:01  Downloading protobuf-3.19.1-cp38-cp38-macosx_10_9_x86_64.whl (1.0 MB)\n",
      "\u001b[K     |████████████████████████████████| 1.0 MB 879 kB/s eta 0:00:01\n",
      "\u001b[K     |████████████████████████████████| 1.0 MB 879 kB/s \n",
      "\u001b[?25hCollecting opt-einsum~=3.3.0\n",
      "\u001b[?25hCollecting opt-einsum~=3.3.0\n",
      "  Downloading opt_einsum-3.3.0-py3-none-any.whl (65 kB)\n",
      "\u001b[?25l  Downloading opt_einsum-3.3.0-py3-none-any.whl (65 kB)\n",
      "\u001b[K     |████████████████████████████████| 65 kB 1.2 MB/s eta 0:00:011\n",
      "\u001b[K     |████████████████████████████████| 65 kB 1.2 MB/s eta 0:00:01\n",
      "\u001b[?25hCollecting markdown>=2.6.8\n",
      "\u001b[?25hCollecting markdown>=2.6.8\n",
      "  Downloading Markdown-3.3.4-py3-none-any.whl (97 kB)\n",
      "\u001b[K     |██████▊                         | 20 kB 593 kB/s eta 0:00:01  Downloading Markdown-3.3.4-py3-none-any.whl (97 kB)\n",
      "\u001b[K     |████████████████████████████████| 97 kB 1.1 MB/s eta 0:00:01\n",
      "\u001b[?25hRequirement already satisfied: requests<3,>=2.21.0 in ./opt/anaconda3/lib/python3.8/site-packages (from tensorboard~=2.6->tensorflow) (2.25.1)\n",
      "\u001b[K     |████████████████████████████████| 97 kB 1.1 MB/s \n",
      "\u001b[?25hRequirement already satisfied: requests<3,>=2.21.0 in ./opt/anaconda3/lib/python3.8/site-packages (from tensorboard~=2.6->tensorflow) (2.25.1)\n",
      "Collecting google-auth<3,>=1.6.3\n",
      "Collecting google-auth<3,>=1.6.3\n",
      "  Downloading google_auth-2.3.2-py2.py3-none-any.whl (155 kB)\n",
      "\u001b[K     |██▏                             | 10 kB 949 kB/s eta 0:00:01  Downloading google_auth-2.3.2-py2.py3-none-any.whl (155 kB)\n",
      "\u001b[K     |████████████████████████████████| 155 kB 1.1 MB/s eta 0:00:01\n",
      "\u001b[?25hRequirement already satisfied: werkzeug>=0.11.15 in ./opt/anaconda3/lib/python3.8/site-packages (from tensorboard~=2.6->tensorflow) (1.0.1)\n",
      "\u001b[K     |████████████████████████████████| 155 kB 1.1 MB/s eta 0:00:01\n",
      "\u001b[?25hRequirement already satisfied: werkzeug>=0.11.15 in ./opt/anaconda3/lib/python3.8/site-packages (from tensorboard~=2.6->tensorflow) (1.0.1)\n",
      "Collecting tensorboard-plugin-wit>=1.6.0\n",
      "Collecting tensorboard-plugin-wit>=1.6.0\n",
      "  Downloading tensorboard_plugin_wit-1.8.0-py3-none-any.whl (781 kB)\n",
      "\u001b[?25l  Downloading tensorboard_plugin_wit-1.8.0-py3-none-any.whl (781 kB)\n",
      "\u001b[K     |████████████████████████████████| 781 kB 1.0 MB/s eta 0:00:01\n",
      "\u001b[K     |████████████████████████████████| 781 kB 1.0 MB/s eta 0:00:01\n",
      "\u001b[?25hCollecting tensorboard-data-server<0.7.0,>=0.6.0\n",
      "\u001b[?25hCollecting tensorboard-data-server<0.7.0,>=0.6.0\n",
      "  Downloading tensorboard_data_server-0.6.1-py3-none-macosx_10_9_x86_64.whl (3.5 MB)\n",
      "\u001b[K     |▍                               | 40 kB 946 kB/s eta 0:00:04  Downloading tensorboard_data_server-0.6.1-py3-none-macosx_10_9_x86_64.whl (3.5 MB)\n",
      "\u001b[K     |████████████████████████████████| 3.5 MB 214 kB/s eta 0:00:01\n",
      "\u001b[K     |████████████████████████████████| 3.5 MB 214 kB/s eta 0:00:01\n",
      "\u001b[?25hRequirement already satisfied: setuptools>=41.0.0 in ./opt/anaconda3/lib/python3.8/site-packages (from tensorboard~=2.6->tensorflow) (52.0.0.post20210125)\n",
      "\u001b[?25hRequirement already satisfied: setuptools>=41.0.0 in ./opt/anaconda3/lib/python3.8/site-packages (from tensorboard~=2.6->tensorflow) (52.0.0.post20210125)\n",
      "Collecting google-auth-oauthlib<0.5,>=0.4.1\n",
      "Collecting google-auth-oauthlib<0.5,>=0.4.1\n",
      "  Downloading google_auth_oauthlib-0.4.6-py2.py3-none-any.whl (18 kB)\n",
      "  Downloading google_auth_oauthlib-0.4.6-py2.py3-none-any.whl (18 kB)\n",
      "Collecting cachetools<5.0,>=2.0.0\n",
      "Collecting cachetools<5.0,>=2.0.0\n",
      "  Downloading cachetools-4.2.4-py3-none-any.whl (10 kB)\n",
      "  Downloading cachetools-4.2.4-py3-none-any.whl (10 kB)\n",
      "Collecting pyasn1-modules>=0.2.1\n",
      "Collecting pyasn1-modules>=0.2.1\n",
      "  Downloading pyasn1_modules-0.2.8-py2.py3-none-any.whl (155 kB)\n",
      "\u001b[K     |██████▎                         | 30 kB 725 kB/s eta 0:00:01  Downloading pyasn1_modules-0.2.8-py2.py3-none-any.whl (155 kB)\n",
      "\u001b[K     |████████████████████████████████| 155 kB 593 kB/s eta 0:00:01\n",
      "\u001b[K     |████████████████████████████████| 155 kB 593 kB/s eta 0:00:01\n",
      "\u001b[?25hCollecting rsa<5,>=3.1.4\n",
      "\u001b[?25hCollecting rsa<5,>=3.1.4\n",
      "  Downloading rsa-4.7.2-py3-none-any.whl (34 kB)\n",
      "  Downloading rsa-4.7.2-py3-none-any.whl (34 kB)\n",
      "Collecting requests-oauthlib>=0.7.0\n",
      "Collecting requests-oauthlib>=0.7.0\n",
      "  Downloading requests_oauthlib-1.3.0-py2.py3-none-any.whl (23 kB)\n",
      "  Downloading requests_oauthlib-1.3.0-py2.py3-none-any.whl (23 kB)\n",
      "Collecting pyasn1<0.5.0,>=0.4.6\n",
      "Collecting pyasn1<0.5.0,>=0.4.6\n",
      "  Downloading pyasn1-0.4.8-py2.py3-none-any.whl (77 kB)\n",
      "\u001b[?25l  Downloading pyasn1-0.4.8-py2.py3-none-any.whl (77 kB)\n",
      "\u001b[K     |████████████████████████████████| 77 kB 946 kB/s eta 0:00:01\n",
      "\u001b[?25hRequirement already satisfied: urllib3<1.27,>=1.21.1 in ./opt/anaconda3/lib/python3.8/site-packages (from requests<3,>=2.21.0->tensorboard~=2.6->tensorflow) (1.26.4)\n",
      "Requirement already satisfied: idna<3,>=2.5 in ./opt/anaconda3/lib/python3.8/site-packages (from requests<3,>=2.21.0->tensorboard~=2.6->tensorflow) (2.10)\n",
      "Requirement already satisfied: certifi>=2017.4.17 in ./opt/anaconda3/lib/python3.8/site-packages (from requests<3,>=2.21.0->tensorboard~=2.6->tensorflow) (2020.12.5)\n",
      "Requirement already satisfied: chardet<5,>=3.0.2 in ./opt/anaconda3/lib/python3.8/site-packages (from requests<3,>=2.21.0->tensorboard~=2.6->tensorflow) (4.0.0)\n",
      "\u001b[K     |████████████████████████████████| 77 kB 946 kB/s eta 0:00:01\n",
      "\u001b[?25hRequirement already satisfied: urllib3<1.27,>=1.21.1 in ./opt/anaconda3/lib/python3.8/site-packages (from requests<3,>=2.21.0->tensorboard~=2.6->tensorflow) (1.26.4)\n",
      "Requirement already satisfied: idna<3,>=2.5 in ./opt/anaconda3/lib/python3.8/site-packages (from requests<3,>=2.21.0->tensorboard~=2.6->tensorflow) (2.10)\n",
      "Requirement already satisfied: certifi>=2017.4.17 in ./opt/anaconda3/lib/python3.8/site-packages (from requests<3,>=2.21.0->tensorboard~=2.6->tensorflow) (2020.12.5)\n",
      "Requirement already satisfied: chardet<5,>=3.0.2 in ./opt/anaconda3/lib/python3.8/site-packages (from requests<3,>=2.21.0->tensorboard~=2.6->tensorflow) (4.0.0)\n",
      "Collecting oauthlib>=3.0.0\n",
      "Collecting oauthlib>=3.0.0\n",
      "  Downloading oauthlib-3.1.1-py2.py3-none-any.whl (146 kB)\n",
      "\u001b[K     |██▎                             | 10 kB 1.2 MB/s eta 0:00:01  Downloading oauthlib-3.1.1-py2.py3-none-any.whl (146 kB)\n",
      "\u001b[K     |████████████████████████████████| 146 kB 832 kB/s eta 0:00:01\n",
      "\u001b[K     |████████████████████████████████| 146 kB 832 kB/s eta 0:00:01\n",
      "\u001b[?25hBuilding wheels for collected packages: clang, termcolor\n",
      "\u001b[?25hBuilding wheels for collected packages: clang, termcolor\n",
      "  Building wheel for clang (setup.py) ... \u001b[?25l-  Building wheel for clang (setup.py) ... \u001b[?25ldone\n",
      "\u001b[?25h  Created wheel for clang: filename=clang-5.0-py3-none-any.whl size=30702 sha256=d90d0ae1bd86bff97ff93534dca11600ed6da68ba065c891bbf16e8ef4431ca3\n",
      "  Stored in directory: /Users/levtsipes/Library/Caches/pip/wheels/f1/60/77/22b9b5887bd47801796a856f47650d9789c74dc3161a26d608\n",
      "\bdone\n",
      "\u001b[?25h  Created wheel for clang: filename=clang-5.0-py3-none-any.whl size=30702 sha256=d90d0ae1bd86bff97ff93534dca11600ed6da68ba065c891bbf16e8ef4431ca3\n",
      "  Stored in directory: /Users/levtsipes/Library/Caches/pip/wheels/f1/60/77/22b9b5887bd47801796a856f47650d9789c74dc3161a26d608\n",
      "  Building wheel for termcolor (setup.py) ... \u001b[?25l-  Building wheel for termcolor (setup.py) ... \u001b[?25ldone\n",
      "\bdone\n",
      "\u001b[?25h  Created wheel for termcolor: filename=termcolor-1.1.0-py3-none-any.whl size=4829 sha256=55c6b10d994094d94f319dc2546f62e3f4d58e83b1cdc55d04de7a333b45f396\n",
      "  Stored in directory: /Users/levtsipes/Library/Caches/pip/wheels/a0/16/9c/5473df82468f958445479c59e784896fa24f4a5fc024b0f501\n",
      "Successfully built clang termcolor\n",
      "\u001b[?25h  Created wheel for termcolor: filename=termcolor-1.1.0-py3-none-any.whl size=4829 sha256=55c6b10d994094d94f319dc2546f62e3f4d58e83b1cdc55d04de7a333b45f396\n",
      "  Stored in directory: /Users/levtsipes/Library/Caches/pip/wheels/a0/16/9c/5473df82468f958445479c59e784896fa24f4a5fc024b0f501\n",
      "Successfully built clang termcolor\n",
      "Installing collected packages: pyasn1, rsa, pyasn1-modules, oauthlib, cachetools, requests-oauthlib, google-auth, tensorboard-plugin-wit, tensorboard-data-server, protobuf, numpy, markdown, grpcio, google-auth-oauthlib, absl-py, termcolor, tensorflow-estimator, tensorboard, opt-einsum, keras-preprocessing, keras, h5py, google-pasta, gast, flatbuffers, clang, astunparse, tensorflow\n",
      "Installing collected packages: pyasn1, rsa, pyasn1-modules, oauthlib, cachetools, requests-oauthlib, google-auth, tensorboard-plugin-wit, tensorboard-data-server, protobuf, numpy, markdown, grpcio, google-auth-oauthlib, absl-py, termcolor, tensorflow-estimator, tensorboard, opt-einsum, keras-preprocessing, keras, h5py, google-pasta, gast, flatbuffers, clang, astunparse, tensorflow\n",
      "  Attempting uninstall: numpy\n",
      "    Found existing installation: numpy 1.20.1\n",
      "  Attempting uninstall: numpy\n",
      "    Found existing installation: numpy 1.20.1\n",
      "    Uninstalling numpy-1.20.1:\n",
      "    Uninstalling numpy-1.20.1:\n",
      "      Successfully uninstalled numpy-1.20.1\n",
      "      Successfully uninstalled numpy-1.20.1\n",
      "  Attempting uninstall: h5py\n",
      "    Found existing installation: h5py 2.10.0\n",
      "    Uninstalling h5py-2.10.0:\n",
      "  Attempting uninstall: h5py\n",
      "    Found existing installation: h5py 2.10.0\n",
      "    Uninstalling h5py-2.10.0:\n",
      "      Successfully uninstalled h5py-2.10.0\n",
      "      Successfully uninstalled h5py-2.10.0\n",
      "Successfully installed absl-py-0.15.0 astunparse-1.6.3 cachetools-4.2.4 clang-5.0 flatbuffers-1.12 gast-0.4.0 google-auth-2.3.2 google-auth-oauthlib-0.4.6 google-pasta-0.2.0 grpcio-1.41.1 h5py-3.1.0 keras-2.6.0 keras-preprocessing-1.1.2 markdown-3.3.4 numpy-1.19.5 oauthlib-3.1.1 opt-einsum-3.3.0 protobuf-3.19.1 pyasn1-0.4.8 pyasn1-modules-0.2.8 requests-oauthlib-1.3.0 rsa-4.7.2 tensorboard-2.7.0 tensorboard-data-server-0.6.1 tensorboard-plugin-wit-1.8.0 tensorflow-2.6.0 tensorflow-estimator-2.7.0 termcolor-1.1.0\n",
      "Successfully installed absl-py-0.15.0 astunparse-1.6.3 cachetools-4.2.4 clang-5.0 flatbuffers-1.12 gast-0.4.0 google-auth-2.3.2 google-auth-oauthlib-0.4.6 google-pasta-0.2.0 grpcio-1.41.1 h5py-3.1.0 keras-2.6.0 keras-preprocessing-1.1.2 markdown-3.3.4 numpy-1.19.5 oauthlib-3.1.1 opt-einsum-3.3.0 protobuf-3.19.1 pyasn1-0.4.8 pyasn1-modules-0.2.8 requests-oauthlib-1.3.0 rsa-4.7.2 tensorboard-2.7.0 tensorboard-data-server-0.6.1 tensorboard-plugin-wit-1.8.0 tensorflow-2.6.0 tensorflow-estimator-2.7.0 termcolor-1.1.0\n",
      "Note: you may need to restart the kernel to use updated packages.\n",
      "Note: you may need to restart the kernel to use updated packages.\n"
     ]
    }
   ],
   "source": [
    "pip install tensorflow"
   ]
  },
  {
   "cell_type": "code",
   "execution_count": 6,
   "id": "77fe3510",
   "metadata": {},
   "outputs": [
    {
     "name": "stdout",
     "output_type": "stream",
     "text": [
      "Requirement already satisfied: keras in ./opt/anaconda3/lib/python3.8/site-packages (2.6.0)\n",
      "Requirement already satisfied: keras in ./opt/anaconda3/lib/python3.8/site-packages (2.6.0)\n",
      "Note: you may need to restart the kernel to use updated packages.\n",
      "Note: you may need to restart the kernel to use updated packages.\n"
     ]
    }
   ],
   "source": [
    "pip install keras"
   ]
  },
  {
   "cell_type": "code",
   "execution_count": null,
   "id": "9efb376a",
   "metadata": {},
   "outputs": [],
   "source": [
    "# заметили, как быстро установилось?)"
   ]
  },
  {
   "cell_type": "code",
   "execution_count": null,
   "id": "bc48cb35",
   "metadata": {},
   "outputs": [],
   "source": [
    "# tensorflow поможет нам классифицировать изображения с помощьью нейронных сетей. Матчасть можно почитать здесь:\n",
    "# https://evileg.com/ru/post/619/#header_Распознавание_изображений_(классификация)"
   ]
  },
  {
   "cell_type": "code",
   "execution_count": null,
   "id": "1781e1ba",
   "metadata": {},
   "outputs": [],
   "source": [
    "# а прикладной туториал тут:\n",
    "# https://habr.com/ru/post/426797/\n",
    "# его я и буду использовать как основу обучения"
   ]
  }
 ],
 "metadata": {
  "kernelspec": {
   "display_name": "Python 3",
   "language": "python",
   "name": "python3"
  },
  "language_info": {
   "codemirror_mode": {
    "name": "ipython",
    "version": 3
   },
   "file_extension": ".py",
   "mimetype": "text/x-python",
   "name": "python",
   "nbconvert_exporter": "python",
   "pygments_lexer": "ipython3",
   "version": "3.8.8"
  }
 },
 "nbformat": 4,
 "nbformat_minor": 5
}
